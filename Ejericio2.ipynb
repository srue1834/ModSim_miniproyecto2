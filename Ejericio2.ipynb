{
 "cells": [
  {
   "cell_type": "code",
   "execution_count": 65,
   "metadata": {},
   "outputs": [],
   "source": [
    "import pandas as pd\n",
    "import numpy as np\n",
    "import random\n",
    "import matplotlib.pyplot as plt\n",
    "x=0\n",
    "y=0\n",
    "n=10000\n",
    "del df\n",
    "df = pd.DataFrame(columns=['A','B'])"
   ]
  },
  {
   "cell_type": "code",
   "execution_count": 63,
   "metadata": {},
   "outputs": [
    {
     "name": "stderr",
     "output_type": "stream",
     "text": [
      "C:\\Users\\andre\\AppData\\Local\\Temp\\ipykernel_10856\\3095259199.py:19: FutureWarning: The frame.append method is deprecated and will be removed from pandas in a future version. Use pandas.concat instead.\n",
      "  df = df.append({'A': a, 'B': b}, ignore_index=True)\n",
      "C:\\Users\\andre\\AppData\\Local\\Temp\\ipykernel_10856\\3095259199.py:19: FutureWarning: The frame.append method is deprecated and will be removed from pandas in a future version. Use pandas.concat instead.\n",
      "  df = df.append({'A': a, 'B': b}, ignore_index=True)\n",
      "C:\\Users\\andre\\AppData\\Local\\Temp\\ipykernel_10856\\3095259199.py:19: FutureWarning: The frame.append method is deprecated and will be removed from pandas in a future version. Use pandas.concat instead.\n",
      "  df = df.append({'A': a, 'B': b}, ignore_index=True)\n",
      "C:\\Users\\andre\\AppData\\Local\\Temp\\ipykernel_10856\\3095259199.py:19: FutureWarning: The frame.append method is deprecated and will be removed from pandas in a future version. Use pandas.concat instead.\n",
      "  df = df.append({'A': a, 'B': b}, ignore_index=True)\n",
      "C:\\Users\\andre\\AppData\\Local\\Temp\\ipykernel_10856\\3095259199.py:19: FutureWarning: The frame.append method is deprecated and will be removed from pandas in a future version. Use pandas.concat instead.\n",
      "  df = df.append({'A': a, 'B': b}, ignore_index=True)\n",
      "C:\\Users\\andre\\AppData\\Local\\Temp\\ipykernel_10856\\3095259199.py:19: FutureWarning: The frame.append method is deprecated and will be removed from pandas in a future version. Use pandas.concat instead.\n",
      "  df = df.append({'A': a, 'B': b}, ignore_index=True)\n",
      "C:\\Users\\andre\\AppData\\Local\\Temp\\ipykernel_10856\\3095259199.py:19: FutureWarning: The frame.append method is deprecated and will be removed from pandas in a future version. Use pandas.concat instead.\n",
      "  df = df.append({'A': a, 'B': b}, ignore_index=True)\n",
      "C:\\Users\\andre\\AppData\\Local\\Temp\\ipykernel_10856\\3095259199.py:19: FutureWarning: The frame.append method is deprecated and will be removed from pandas in a future version. Use pandas.concat instead.\n",
      "  df = df.append({'A': a, 'B': b}, ignore_index=True)\n",
      "C:\\Users\\andre\\AppData\\Local\\Temp\\ipykernel_10856\\3095259199.py:19: FutureWarning: The frame.append method is deprecated and will be removed from pandas in a future version. Use pandas.concat instead.\n",
      "  df = df.append({'A': a, 'B': b}, ignore_index=True)\n",
      "C:\\Users\\andre\\AppData\\Local\\Temp\\ipykernel_10856\\3095259199.py:19: FutureWarning: The frame.append method is deprecated and will be removed from pandas in a future version. Use pandas.concat instead.\n",
      "  df = df.append({'A': a, 'B': b}, ignore_index=True)\n"
     ]
    },
    {
     "data": {
      "text/html": [
       "<div>\n",
       "<style scoped>\n",
       "    .dataframe tbody tr th:only-of-type {\n",
       "        vertical-align: middle;\n",
       "    }\n",
       "\n",
       "    .dataframe tbody tr th {\n",
       "        vertical-align: top;\n",
       "    }\n",
       "\n",
       "    .dataframe thead th {\n",
       "        text-align: right;\n",
       "    }\n",
       "</style>\n",
       "<table border=\"1\" class=\"dataframe\">\n",
       "  <thead>\n",
       "    <tr style=\"text-align: right;\">\n",
       "      <th></th>\n",
       "      <th>A</th>\n",
       "      <th>B</th>\n",
       "    </tr>\n",
       "  </thead>\n",
       "  <tbody>\n",
       "    <tr>\n",
       "      <th>0</th>\n",
       "      <td>0.0</td>\n",
       "      <td>0.16</td>\n",
       "    </tr>\n",
       "    <tr>\n",
       "      <th>1</th>\n",
       "      <td>1.78</td>\n",
       "      <td>3.22</td>\n",
       "    </tr>\n",
       "    <tr>\n",
       "      <th>2</th>\n",
       "      <td>0.39</td>\n",
       "      <td>1.94</td>\n",
       "    </tr>\n",
       "    <tr>\n",
       "      <th>3</th>\n",
       "      <td>3.56</td>\n",
       "      <td>4.84</td>\n",
       "    </tr>\n",
       "    <tr>\n",
       "      <th>4</th>\n",
       "      <td>4.45</td>\n",
       "      <td>5.65</td>\n",
       "    </tr>\n",
       "    <tr>\n",
       "      <th>5</th>\n",
       "      <td>5.34</td>\n",
       "      <td>6.46</td>\n",
       "    </tr>\n",
       "    <tr>\n",
       "      <th>6</th>\n",
       "      <td>6.23</td>\n",
       "      <td>7.27</td>\n",
       "    </tr>\n",
       "    <tr>\n",
       "      <th>7</th>\n",
       "      <td>7.12</td>\n",
       "      <td>8.08</td>\n",
       "    </tr>\n",
       "    <tr>\n",
       "      <th>8</th>\n",
       "      <td>8.01</td>\n",
       "      <td>8.89</td>\n",
       "    </tr>\n",
       "    <tr>\n",
       "      <th>9</th>\n",
       "      <td>8.9</td>\n",
       "      <td>9.7</td>\n",
       "    </tr>\n",
       "  </tbody>\n",
       "</table>\n",
       "</div>"
      ],
      "text/plain": [
       "      A     B\n",
       "0   0.0  0.16\n",
       "1  1.78  3.22\n",
       "2  0.39  1.94\n",
       "3  3.56  4.84\n",
       "4  4.45  5.65\n",
       "5  5.34  6.46\n",
       "6  6.23  7.27\n",
       "7  7.12  8.08\n",
       "8  8.01  8.89\n",
       "9   8.9   9.7"
      ]
     },
     "execution_count": 63,
     "metadata": {},
     "output_type": "execute_result"
    }
   ],
   "source": [
    "for i in range (1,n+1):\n",
    "    p = random.random()\n",
    "    x,y= i ,i \n",
    "    if(p < 0.85):\n",
    "        #print(\"caso 1\")\n",
    "        a ,b= x*0.85 +y*0.04 , x*-0.04 + y*0.85 +1.6\n",
    "    elif(p >=0.85 and p < 0.92):\n",
    "        #print (\"caso 2\")\n",
    "        a,b= -0.15*x +0.28*y , x*0.26 +y*0.24 +0.44\n",
    "    elif (p >=0.85 and p < 0.92):\n",
    "        #print (\"Caso 3\")\n",
    "        a,b = x*0.2+y*-0.26, x*0.23 +y*0.22 +1.6\n",
    "    else :\n",
    "        #print (\"Caso 4\")\n",
    "        a,b= x*0 + y*0 , x*0 + y*0.16\n",
    "\n",
    "    #print (\" A : \" + str(a) + \" B : \" + str(b) )\n",
    "    # df = df.append({'a': 1, 'b': 2}, ignore_index=True)\n",
    "    df = df.append({'A': a, 'B': b}, ignore_index=True)\n",
    "    #df2 = pd.DataFrame([[a,b ]], columns=list('AB'), index=['x'])\n",
    "    #df.append(df2)\n",
    "\n",
    "df\n",
    "\n",
    "\n",
    "\n",
    "\n",
    "\n"
   ]
  },
  {
   "cell_type": "code",
   "execution_count": 64,
   "metadata": {},
   "outputs": [
    {
     "data": {
      "image/png": "[encoded data removed]",
      "text/plain": [
       "<Figure size 432x288 with 1 Axes>"
      ]
     },
     "metadata": {
      "needs_background": "light"
     },
     "output_type": "display_data"
    }
   ],
   "source": [
    "plt.plot(df['A'],df['B'])\n",
    "plt.show()"
   ]
  }
 ],
 "metadata": {
  "interpreter": {
   "hash": "e788497cb3569157be8e656aed1f4beb46e0ad7c9c943d25fb630c9e375e334a"
  },
  "kernelspec": {
   "display_name": "Python 3.9.2 64-bit",
   "language": "python",
   "name": "python3"
  },
  "language_info": {
   "codemirror_mode": {
    "name": "ipython",
    "version": 3
   },
   "file_extension": ".py",
   "mimetype": "text/x-python",
   "name": "python",
   "nbconvert_exporter": "python",
   "pygments_lexer": "ipython3",
   "version": "3.9.2"
  },
  "orig_nbformat": 4
 },
 "nbformat": 4,
 "nbformat_minor": 2
}
